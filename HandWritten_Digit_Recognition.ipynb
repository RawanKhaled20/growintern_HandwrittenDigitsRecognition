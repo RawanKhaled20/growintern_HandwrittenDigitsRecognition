{
  "nbformat": 4,
  "nbformat_minor": 0,
  "metadata": {
    "colab": {
      "provenance": [],
      "authorship_tag": "ABX9TyMj71ahliKhD59euOJlTtYx",
      "include_colab_link": true
    },
    "kernelspec": {
      "name": "python3",
      "display_name": "Python 3"
    },
    "language_info": {
      "name": "python"
    }
  },
  "cells": [
    {
      "cell_type": "markdown",
      "metadata": {
        "id": "view-in-github",
        "colab_type": "text"
      },
      "source": [
        "<a href=\"https://colab.research.google.com/github/RawanKhaled20/growintern_Task2/blob/main/HandWritten_Digit_Recognition.ipynb\" target=\"_parent\"><img src=\"https://colab.research.google.com/assets/colab-badge.svg\" alt=\"Open In Colab\"/></a>"
      ]
    },
    {
      "cell_type": "code",
      "execution_count": null,
      "metadata": {
        "id": "IYaBD3UrRnZk"
      },
      "outputs": [],
      "source": [
        "import numpy as np\n",
        "import os\n",
        "import matplotlib.pyplot as plt\n",
        "import cv2\n",
        "import tensorflow as tf"
      ]
    },
    {
      "cell_type": "code",
      "source": [
        "dataset = tf.keras.datasets.mnist\n",
        "\n",
        "(x_train, y_train), (x_test, y_test) = dataset.load_data()"
      ],
      "metadata": {
        "colab": {
          "base_uri": "https://localhost:8080/"
        },
        "id": "suiXDeKgSy2u",
        "outputId": "4eac0d81-3342-49b4-974e-1a2c5663370b"
      },
      "execution_count": null,
      "outputs": [
        {
          "output_type": "stream",
          "name": "stdout",
          "text": [
            "Downloading data from https://storage.googleapis.com/tensorflow/tf-keras-datasets/mnist.npz\n",
            "11490434/11490434 [==============================] - 0s 0us/step\n"
          ]
        }
      ]
    },
    {
      "cell_type": "code",
      "source": [
        "x_train=tf.keras.utils.normalize (x_train, axis=1)\n",
        "x_test=tf.keras.utils.normalize (x_test, axis=1)"
      ],
      "metadata": {
        "id": "gDqKwEQoTWlD"
      },
      "execution_count": null,
      "outputs": []
    },
    {
      "cell_type": "code",
      "source": [
        "model = tf.keras.models.Sequential()\n",
        "\n",
        "model.add(tf.keras.layers.Flatten(input_shape=(28, 28)))\n",
        "model.add(tf.keras.layers.Dense(128, activation='relu'))\n",
        "model.add(tf.keras.layers.Dense(128, activation='relu'))\n",
        "model.add(tf.keras.layers.Dense(10, activation='softmax'))"
      ],
      "metadata": {
        "id": "Pioj2Yo4ThzY"
      },
      "execution_count": null,
      "outputs": []
    },
    {
      "cell_type": "code",
      "source": [
        "model.compile(optimizer='adam', loss='sparse_categorical_crossentropy', metrics='accuracy')\n",
        "\n",
        "model.fit(x_train, y_train, epochs=5, verbose=1)"
      ],
      "metadata": {
        "colab": {
          "base_uri": "https://localhost:8080/"
        },
        "id": "0YXScqx1Th54",
        "outputId": "0e6a02f6-c081-4e6e-ba64-75cb360b4038"
      },
      "execution_count": null,
      "outputs": [
        {
          "output_type": "stream",
          "name": "stdout",
          "text": [
            "Epoch 1/5\n",
            "1875/1875 [==============================] - 9s 5ms/step - loss: 0.2634 - accuracy: 0.9217\n",
            "Epoch 2/5\n",
            "1875/1875 [==============================] - 8s 4ms/step - loss: 0.1090 - accuracy: 0.9671\n",
            "Epoch 3/5\n",
            "1875/1875 [==============================] - 7s 4ms/step - loss: 0.0733 - accuracy: 0.9773\n",
            "Epoch 4/5\n",
            "1875/1875 [==============================] - 8s 4ms/step - loss: 0.0541 - accuracy: 0.9827\n",
            "Epoch 5/5\n",
            "1875/1875 [==============================] - 7s 4ms/step - loss: 0.0407 - accuracy: 0.9868\n"
          ]
        },
        {
          "output_type": "execute_result",
          "data": {
            "text/plain": [
              "<keras.src.callbacks.History at 0x7f120e77ae30>"
            ]
          },
          "metadata": {},
          "execution_count": 7
        }
      ]
    },
    {
      "cell_type": "code",
      "source": [
        "model.save('handwritten_model')"
      ],
      "metadata": {
        "id": "uVFFuJfEUx8m"
      },
      "execution_count": null,
      "outputs": []
    },
    {
      "cell_type": "code",
      "source": [
        "model.summary()"
      ],
      "metadata": {
        "colab": {
          "base_uri": "https://localhost:8080/"
        },
        "id": "vPf_aRSFVFPx",
        "outputId": "9ddd034e-fc05-446a-97c1-052e08e25c1a"
      },
      "execution_count": null,
      "outputs": [
        {
          "output_type": "stream",
          "name": "stdout",
          "text": [
            "Model: \"sequential_1\"\n",
            "_________________________________________________________________\n",
            " Layer (type)                Output Shape              Param #   \n",
            "=================================================================\n",
            " flatten (Flatten)           (None, 784)               0         \n",
            "                                                                 \n",
            " dense (Dense)               (None, 128)               100480    \n",
            "                                                                 \n",
            " dense_1 (Dense)             (None, 128)               16512     \n",
            "                                                                 \n",
            " dense_2 (Dense)             (None, 10)                1290      \n",
            "                                                                 \n",
            "=================================================================\n",
            "Total params: 118282 (462.04 KB)\n",
            "Trainable params: 118282 (462.04 KB)\n",
            "Non-trainable params: 0 (0.00 Byte)\n",
            "_________________________________________________________________\n"
          ]
        }
      ]
    },
    {
      "cell_type": "code",
      "source": [
        "loss, accuracy= model.evaluate(x_test, y_test)\n",
        "\n",
        "print(\"The total loss is: \", loss)\n",
        "print(\"The accuracy is: \", accuracy)"
      ],
      "metadata": {
        "colab": {
          "base_uri": "https://localhost:8080/"
        },
        "id": "BnPu-KH1VHC-",
        "outputId": "9afad41f-aab0-4388-f9dd-c4395cd94bfe"
      },
      "execution_count": null,
      "outputs": [
        {
          "output_type": "stream",
          "name": "stdout",
          "text": [
            "313/313 [==============================] - 1s 2ms/step - loss: 0.0896 - accuracy: 0.9735\n",
            "The total loss is:  0.08960705250501633\n",
            "The accuracy is:  0.9735000133514404\n"
          ]
        }
      ]
    },
    {
      "cell_type": "code",
      "source": [
        "from google.colab import files\n",
        "files.upload()"
      ],
      "metadata": {
        "colab": {
          "base_uri": "https://localhost:8080/",
          "height": 384
        },
        "id": "_ZTMsJcdY1NZ",
        "outputId": "c9938055-19dd-4d4f-80f9-079ac50238ee"
      },
      "execution_count": null,
      "outputs": [
        {
          "output_type": "display_data",
          "data": {
            "text/plain": [
              "<IPython.core.display.HTML object>"
            ],
            "text/html": [
              "\n",
              "     <input type=\"file\" id=\"files-aee532e6-344a-4f18-ad6d-6c4e9cbea27b\" name=\"files[]\" multiple disabled\n",
              "        style=\"border:none\" />\n",
              "     <output id=\"result-aee532e6-344a-4f18-ad6d-6c4e9cbea27b\">\n",
              "      Upload widget is only available when the cell has been executed in the\n",
              "      current browser session. Please rerun this cell to enable.\n",
              "      </output>\n",
              "      <script>// Copyright 2017 Google LLC\n",
              "//\n",
              "// Licensed under the Apache License, Version 2.0 (the \"License\");\n",
              "// you may not use this file except in compliance with the License.\n",
              "// You may obtain a copy of the License at\n",
              "//\n",
              "//      http://www.apache.org/licenses/LICENSE-2.0\n",
              "//\n",
              "// Unless required by applicable law or agreed to in writing, software\n",
              "// distributed under the License is distributed on an \"AS IS\" BASIS,\n",
              "// WITHOUT WARRANTIES OR CONDITIONS OF ANY KIND, either express or implied.\n",
              "// See the License for the specific language governing permissions and\n",
              "// limitations under the License.\n",
              "\n",
              "/**\n",
              " * @fileoverview Helpers for google.colab Python module.\n",
              " */\n",
              "(function(scope) {\n",
              "function span(text, styleAttributes = {}) {\n",
              "  const element = document.createElement('span');\n",
              "  element.textContent = text;\n",
              "  for (const key of Object.keys(styleAttributes)) {\n",
              "    element.style[key] = styleAttributes[key];\n",
              "  }\n",
              "  return element;\n",
              "}\n",
              "\n",
              "// Max number of bytes which will be uploaded at a time.\n",
              "const MAX_PAYLOAD_SIZE = 100 * 1024;\n",
              "\n",
              "function _uploadFiles(inputId, outputId) {\n",
              "  const steps = uploadFilesStep(inputId, outputId);\n",
              "  const outputElement = document.getElementById(outputId);\n",
              "  // Cache steps on the outputElement to make it available for the next call\n",
              "  // to uploadFilesContinue from Python.\n",
              "  outputElement.steps = steps;\n",
              "\n",
              "  return _uploadFilesContinue(outputId);\n",
              "}\n",
              "\n",
              "// This is roughly an async generator (not supported in the browser yet),\n",
              "// where there are multiple asynchronous steps and the Python side is going\n",
              "// to poll for completion of each step.\n",
              "// This uses a Promise to block the python side on completion of each step,\n",
              "// then passes the result of the previous step as the input to the next step.\n",
              "function _uploadFilesContinue(outputId) {\n",
              "  const outputElement = document.getElementById(outputId);\n",
              "  const steps = outputElement.steps;\n",
              "\n",
              "  const next = steps.next(outputElement.lastPromiseValue);\n",
              "  return Promise.resolve(next.value.promise).then((value) => {\n",
              "    // Cache the last promise value to make it available to the next\n",
              "    // step of the generator.\n",
              "    outputElement.lastPromiseValue = value;\n",
              "    return next.value.response;\n",
              "  });\n",
              "}\n",
              "\n",
              "/**\n",
              " * Generator function which is called between each async step of the upload\n",
              " * process.\n",
              " * @param {string} inputId Element ID of the input file picker element.\n",
              " * @param {string} outputId Element ID of the output display.\n",
              " * @return {!Iterable<!Object>} Iterable of next steps.\n",
              " */\n",
              "function* uploadFilesStep(inputId, outputId) {\n",
              "  const inputElement = document.getElementById(inputId);\n",
              "  inputElement.disabled = false;\n",
              "\n",
              "  const outputElement = document.getElementById(outputId);\n",
              "  outputElement.innerHTML = '';\n",
              "\n",
              "  const pickedPromise = new Promise((resolve) => {\n",
              "    inputElement.addEventListener('change', (e) => {\n",
              "      resolve(e.target.files);\n",
              "    });\n",
              "  });\n",
              "\n",
              "  const cancel = document.createElement('button');\n",
              "  inputElement.parentElement.appendChild(cancel);\n",
              "  cancel.textContent = 'Cancel upload';\n",
              "  const cancelPromise = new Promise((resolve) => {\n",
              "    cancel.onclick = () => {\n",
              "      resolve(null);\n",
              "    };\n",
              "  });\n",
              "\n",
              "  // Wait for the user to pick the files.\n",
              "  const files = yield {\n",
              "    promise: Promise.race([pickedPromise, cancelPromise]),\n",
              "    response: {\n",
              "      action: 'starting',\n",
              "    }\n",
              "  };\n",
              "\n",
              "  cancel.remove();\n",
              "\n",
              "  // Disable the input element since further picks are not allowed.\n",
              "  inputElement.disabled = true;\n",
              "\n",
              "  if (!files) {\n",
              "    return {\n",
              "      response: {\n",
              "        action: 'complete',\n",
              "      }\n",
              "    };\n",
              "  }\n",
              "\n",
              "  for (const file of files) {\n",
              "    const li = document.createElement('li');\n",
              "    li.append(span(file.name, {fontWeight: 'bold'}));\n",
              "    li.append(span(\n",
              "        `(${file.type || 'n/a'}) - ${file.size} bytes, ` +\n",
              "        `last modified: ${\n",
              "            file.lastModifiedDate ? file.lastModifiedDate.toLocaleDateString() :\n",
              "                                    'n/a'} - `));\n",
              "    const percent = span('0% done');\n",
              "    li.appendChild(percent);\n",
              "\n",
              "    outputElement.appendChild(li);\n",
              "\n",
              "    const fileDataPromise = new Promise((resolve) => {\n",
              "      const reader = new FileReader();\n",
              "      reader.onload = (e) => {\n",
              "        resolve(e.target.result);\n",
              "      };\n",
              "      reader.readAsArrayBuffer(file);\n",
              "    });\n",
              "    // Wait for the data to be ready.\n",
              "    let fileData = yield {\n",
              "      promise: fileDataPromise,\n",
              "      response: {\n",
              "        action: 'continue',\n",
              "      }\n",
              "    };\n",
              "\n",
              "    // Use a chunked sending to avoid message size limits. See b/62115660.\n",
              "    let position = 0;\n",
              "    do {\n",
              "      const length = Math.min(fileData.byteLength - position, MAX_PAYLOAD_SIZE);\n",
              "      const chunk = new Uint8Array(fileData, position, length);\n",
              "      position += length;\n",
              "\n",
              "      const base64 = btoa(String.fromCharCode.apply(null, chunk));\n",
              "      yield {\n",
              "        response: {\n",
              "          action: 'append',\n",
              "          file: file.name,\n",
              "          data: base64,\n",
              "        },\n",
              "      };\n",
              "\n",
              "      let percentDone = fileData.byteLength === 0 ?\n",
              "          100 :\n",
              "          Math.round((position / fileData.byteLength) * 100);\n",
              "      percent.textContent = `${percentDone}% done`;\n",
              "\n",
              "    } while (position < fileData.byteLength);\n",
              "  }\n",
              "\n",
              "  // All done.\n",
              "  yield {\n",
              "    response: {\n",
              "      action: 'complete',\n",
              "    }\n",
              "  };\n",
              "}\n",
              "\n",
              "scope.google = scope.google || {};\n",
              "scope.google.colab = scope.google.colab || {};\n",
              "scope.google.colab._files = {\n",
              "  _uploadFiles,\n",
              "  _uploadFilesContinue,\n",
              "};\n",
              "})(self);\n",
              "</script> "
            ]
          },
          "metadata": {}
        },
        {
          "output_type": "stream",
          "name": "stdout",
          "text": [
            "Saving Images.zip to Images.zip\n"
          ]
        },
        {
          "output_type": "execute_result",
          "data": {
            "text/plain": [
              "{'Images.zip': b'PK\\x03\\x04\\x14\\x00\\x00\\x00\\x08\\x00\\x15\\x8bFW\\x9eRyV\\x03\\x01\\x00\\x00\\x05\\x01\\x00\\x00\\x12\\x00\\x00\\x00Images/12_test.png\\xeb\\x0c\\xf0s\\xe7\\xe5\\x92\\xe2b``\\xe0\\xf5\\xf4p\\t\\x02\\xd22 \\xcc\\xc1\\x04$\\xff\\xe6{\\x1c\\x06R\\x8c\\xc5A\\xeeN\\x0c\\xeb\\xce\\xc9\\xbc\\x04rX\\xd2\\x1d}\\x1d\\x19\\x186\\xf6s\\xffId\\x05\\xf29\\x0b<\"\\x8b\\x19\\x18\\x84J@\\x98\\xf1^\\x9a|\\x05Pp\\x96\\xa7\\x8bc\\x88\\x87\\xf7\\xd3)\\xd1\\\\\\x07\\x14xX|\\xdf\\xd7\\xa7K\\x07\\x9c\\x92\\xba\\xbe\\xdd\\xe9\\xe0\\xcfL\\xcf\\xb33\"B\\xf7|\\xcf3\\xf7\\xaf\\xc9k\\xf5vU\\xd9\\xe7[\\xb8$h\\xd3\\xb2\\x85gNE]\\xb6+\\xd83\\xb5L\\xea\\xb3NO\\xcf\\xd6\\xfbs\\x8c&xd\\xc6\\xb3e]Qx\\xa6\\x16\\xf4\\xd7\\xad\\xd8M2{\\x7f\\xf1)\\xe5\\xe8Wf+o\\x9a\\xdd\\xd6:Z_qu\\xd6\\xac\\xe6\\xf5k\\xbc\\x8a\\x17oR\\xd1\\xbd+\\xbaz\\xea\\xa5\\xe6\\xe8=K&^\\x92\\xc8\\nY\\xb4\\xc5\\xbd\\xe5\\xc2\\xb1\\xfd\"A\\x99\\xc2Qjl\\xe9K|\\xff\\xed\\xfaY\\xcc\\xe71\\xb7\\x9aqFe\\x88x0\\x17\\xdfG\\xa0+\\x19<]\\xfd\\\\\\xd69%4\\x01\\x00PK\\x03\\x04\\x14\\x00\\x00\\x00\\x08\\x00\\xc0\\x8aFWe\\xbf&v\\xf1\\x00\\x00\\x00\\xf5\\x00\\x00\\x00\\x11\\x00\\x00\\x00Images/3_test.png\\xeb\\x0c\\xf0s\\xe7\\xe5\\x92\\xe2b``\\xe0\\xf5\\xf4p\\t\\x02\\xd22 \\xcc\\xc1\\x04$\\xff\\xe6{\\x1c\\x06R\\x8c\\xc5A\\xeeN\\x0c\\xeb\\xce\\xc9\\xbc\\x04rX\\xd2\\x1d}\\x1d\\x19\\x186\\xf6s\\xffId\\x05\\xf29\\x0b<\"\\x8b\\x19\\x18\\x84J@\\x98\\xf1^\\x9a|\\x05P\\xb0\\xcb\\xd3\\xc51\\xc4\\xc3\\xfb\\xe9\\xa4@\\xae\\x03\\n<\\xceo\\xdf\\xd5\\xa7\\xab\\xaf\\x9e\\xd2\\xb8,\\xebv\\x7f\\xd3\\xcf\\x99\\n\\xb5\\xc6\\xbe+\\xaeE-\\xfa\\xfa%\\x7f\\x85^\\xbb^\\x93\\xd2\\xa2:\\xa6Y}\\xbb/=\\x8f\\xefc\\x99^\\xfbeA\\xc3\\xdc>\\xedON\\xcb\\xfb}#Wf\\xda\\xf2]r\\xff*\\xc5\\x99\\xfd\\xc2\\xce;\\xe5\\x8df\\x96\\xc6\\xe9\\x1d\\xc1\\xc7\\x14\\x85\\xbf-\\x10\\xe9\\x9e\\xa9u\\xb5G\\xf9\\xbdo\\xba\\xe3_\\xc7S\\n-\\xdb*w\\xdeJ\\xe94\\xc9\\xb0\\xaf\\xbd\\x95\\xd8\\xd9c{u\\xaafml\\xb8\\xb3w%\\xa3v\\xb2\\xabH\\xd6\\x81[\\x9d@W1x\\xba\\xfa\\xb9\\xacsJh\\x02\\x00PK\\x03\\x04\\x14\\x00\\x00\\x00\\x08\\x00\\xca\\x8aFW\\x0f4H\\xfb\\xed\\x00\\x00\\x00\\xf1\\x00\\x00\\x00\\x11\\x00\\x00\\x00Images/5-test.png\\xeb\\x0c\\xf0s\\xe7\\xe5\\x92\\xe2b``\\xe0\\xf5\\xf4p\\t\\x02\\xd22 \\xcc\\xc1\\x04$\\xff\\xe6{\\x1c\\x06R\\x8c\\xc5A\\xeeN\\x0c\\xeb\\xce\\xc9\\xbc\\x04rX\\xd2\\x1d}\\x1d\\x19\\x186\\xf6s\\xffId\\x05\\xf29\\x0b<\"\\x8b\\x19\\x18\\x84J@\\x98\\xf1^\\x9a|\\x05P\\xb0\\xcd\\xd3\\xc51\\xc4\\xc3\\xfb\\xeddG\\xbe\\x06\\x05\\x1e\\x96\\x95\\xff\\xff\\x17\\xe7nj\\xd1\\x98\\xe2\\xe4\\xf5q\\xc19W\\x95\\x97\\x1a\\xef\\xbc\\xce\\xccYd\\xf9\\xc9tJ\\xbf\\xf7qG\\xc1\\xc08\\xd3/i\\xd9\\x99\\xab\\x0b\\xae<Vk\\xbd\\x98\\xb8\\xf2\\x86\\xfc\\x95_\\xd6M\\xee\\x97\\xa6\\x9f\\xef\\x92U.I\\x90\\xf1\\x9e\\xce\\'\\xac}>,\\xb0\\xaf\\x9f19\\xcdC7\\xf6J\\xe3\\xdf\\xa9]\\x8f\\x8e\\x06\\xbdl\\x9b\\x90o\\xf5\\xa2\\xd4y\\xf5\\x86\\x03~\\x89\\xcb\\xa4\\xbb\\xbeh}\\xbaz\\xfa\\x97\\xe1\\x9d?S\\xbb\\xd2\\x9bM\\x96\\n\\xd7\\xec\\xf5\\xe6\\xe7\\x141Z\\tt\\x11\\x83\\xa7\\xab\\x9f\\xcb:\\xa7\\x84&\\x00PK\\x03\\x04\\x14\\x00\\x00\\x00\\x08\\x00\\xe0\\x8aFWE\\xebZ\\xc9\\xfd\\x00\\x00\\x00\\xff\\x00\\x00\\x00\\x11\\x00\\x00\\x00Images/8_test.png\\xeb\\x0c\\xf0s\\xe7\\xe5\\x92\\xe2b``\\xe0\\xf5\\xf4p\\t\\x02\\xd22 \\xcc\\xc1\\x04$\\xff\\xe6{\\x1c\\x06R\\x8c\\xc5A\\xeeN\\x0c\\xeb\\xce\\xc9\\xbc\\x04rX\\xd2\\x1d}\\x1d\\x19\\x186\\xf6s\\xffId\\x05\\xf29\\x0b<\"\\x8b\\x19\\x18\\x84J@\\x98\\xf1^\\x9a|\\x05Pp\\x8a\\xa7\\x8bc\\x88\\x87\\xf7\\xddI\\x17\\xf9\\x1a\\x148\\\\\\xb7\\xfe\\xff\\x9f\\xbe\\xb8\\xa0/\\xf3\\xc0\\xd1\\x1a\\x8d\\xf3\\xdd\\x9bON\\xdc\\xf1,\\xc8+\\xeal\\xe0\\xf5\\xa5o\\xb4\\xce\\x9a\\x97.nf\\xbb\\xba\\xf3\\x8d\\x96\\xb7\\x96\\xeb\\'\\x89\\xda\\xedK\\xcf\\xbd\\x0f6\\x0c\\xfe.q{\\x89}\\xda[\\xbe)\\x1b\\x96\\xc4\\xd8T\\xc5.XpB:\\xe8\\xfc\\x9e\\xe0\\xed,\\xbc^]w\\xd6\\x05jv\\xaf\\x8bdhv[\\xea\\x92}\\xed+\\xdb\\x92Ie\\x07\\x95\\'\\x07\\xcd\\x0e\\x0f\\xcae\\xfa\\x1c\\x94\\xcc\\xc4\\x98y}\\xba\\xa0\\xc8\\xaf\\x1f3\\xfd\\x96\\\\=\\xb6D\\xe1\\xbew\\xfcc\\xfdKS\\xfcv\\xda{+\\xc6\\xc8H\\xcc\\x04\\xba\\x8f\\xc1\\xd3\\xd5\\xcfe\\x9dSB\\x13\\x00PK\\x01\\x02\\x14\\x00\\x14\\x00\\x00\\x00\\x08\\x00\\x15\\x8bFW\\x9eRyV\\x03\\x01\\x00\\x00\\x05\\x01\\x00\\x00\\x12\\x00\\x00\\x00\\x00\\x00\\x00\\x00\\x00\\x00 \\x00\\x00\\x00\\x00\\x00\\x00\\x00Images/12_test.pngPK\\x01\\x02\\x14\\x00\\x14\\x00\\x00\\x00\\x08\\x00\\xc0\\x8aFWe\\xbf&v\\xf1\\x00\\x00\\x00\\xf5\\x00\\x00\\x00\\x11\\x00\\x00\\x00\\x00\\x00\\x00\\x00\\x00\\x00 \\x00\\x00\\x003\\x01\\x00\\x00Images/3_test.pngPK\\x01\\x02\\x14\\x00\\x14\\x00\\x00\\x00\\x08\\x00\\xca\\x8aFW\\x0f4H\\xfb\\xed\\x00\\x00\\x00\\xf1\\x00\\x00\\x00\\x11\\x00\\x00\\x00\\x00\\x00\\x00\\x00\\x00\\x00 \\x00\\x00\\x00S\\x02\\x00\\x00Images/5-test.pngPK\\x01\\x02\\x14\\x00\\x14\\x00\\x00\\x00\\x08\\x00\\xe0\\x8aFWE\\xebZ\\xc9\\xfd\\x00\\x00\\x00\\xff\\x00\\x00\\x00\\x11\\x00\\x00\\x00\\x00\\x00\\x00\\x00\\x00\\x00 \\x00\\x00\\x00o\\x03\\x00\\x00Images/8_test.pngPK\\x05\\x06\\x00\\x00\\x00\\x00\\x04\\x00\\x04\\x00\\xfd\\x00\\x00\\x00\\x9b\\x04\\x00\\x00\\x00\\x00'}"
            ]
          },
          "metadata": {},
          "execution_count": 11
        }
      ]
    },
    {
      "cell_type": "code",
      "source": [
        "!unzip Images.zip -d /content/"
      ],
      "metadata": {
        "colab": {
          "base_uri": "https://localhost:8080/"
        },
        "id": "Hx-iVfgsZsXj",
        "outputId": "292fff97-430f-4ebe-cbba-e2ed50c02c0d"
      },
      "execution_count": null,
      "outputs": [
        {
          "output_type": "stream",
          "name": "stdout",
          "text": [
            "Archive:  Images.zip\n",
            "  inflating: /content/Images/12_test.png  \n",
            "  inflating: /content/Images/3_test.png  \n",
            "  inflating: /content/Images/5-test.png  \n",
            "  inflating: /content/Images/8_test.png  \n"
          ]
        }
      ]
    },
    {
      "cell_type": "code",
      "source": [
        "num=1\n",
        "\n",
        "while os.path.isfile(f\"Images/digit{num}.png\"):\n",
        "  try:\n",
        "    img=cv2.imread(f\"Images/digit{num}.png\")[:,:,0]\n",
        "    img=np.invert(np.array([img]))\n",
        "    prediction=model.predict(img)\n",
        "    print(\"The digit is:\", np.argmax(prediction))\n",
        "    plt.imshow(img[0], cmap=plt.cm.binary)\n",
        "    plt.show()\n",
        "  except:\n",
        "    print(\"Error\")\n",
        "  finally:\n",
        "    num+=1"
      ],
      "metadata": {
        "colab": {
          "base_uri": "https://localhost:8080/",
          "height": 1000
        },
        "id": "BFQ3tA3tahG7",
        "outputId": "2d1a5243-983f-4708-eab1-44100d9c0419"
      },
      "execution_count": null,
      "outputs": [
        {
          "output_type": "stream",
          "name": "stdout",
          "text": [
            "1/1 [==============================] - 0s 28ms/step\n",
            "The digit is: 2\n"
          ]
        },
        {
          "output_type": "display_data",
          "data": {
            "text/plain": [
              "<Figure size 640x480 with 1 Axes>"
            ],
            "image/png": "[encoded data removed]"
          },
          "metadata": {}
        },
        {
          "output_type": "stream",
          "name": "stdout",
          "text": [
            "1/1 [==============================] - 0s 23ms/step\n",
            "The digit is: 3\n"
          ]
        },
        {
          "output_type": "display_data",
          "data": {
            "text/plain": [
              "<Figure size 640x480 with 1 Axes>"
            ],
            "image/png": "[encoded data removed]"
          },
          "metadata": {}
        },
        {
          "output_type": "stream",
          "name": "stdout",
          "text": [
            "1/1 [==============================] - 0s 20ms/step\n",
            "The digit is: 5\n"
          ]
        },
        {
          "output_type": "display_data",
          "data": {
            "text/plain": [
              "<Figure size 640x480 with 1 Axes>"
            ],
            "image/png": "[encoded data removed]"
          },
          "metadata": {}
        },
        {
          "output_type": "stream",
          "name": "stdout",
          "text": [
            "1/1 [==============================] - 0s 21ms/step\n",
            "The digit is: 8\n"
          ]
        },
        {
          "output_type": "display_data",
          "data": {
            "text/plain": [
              "<Figure size 640x480 with 1 Axes>"
            ],
            "image/png": "[encoded data removed]"
          },
          "metadata": {}
        }
      ]
    }
  ]
}